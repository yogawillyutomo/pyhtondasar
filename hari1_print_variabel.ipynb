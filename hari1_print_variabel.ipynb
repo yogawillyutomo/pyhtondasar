{
 "cells": [
  {
   "cell_type": "markdown",
   "id": "104a024d",
   "metadata": {},
   "source": [
    "# 🐍 Hari 1: Print & Variabel Dasar\n",
    "Belajar Python dimulai dari hal yang paling dasar: mencetak teks ke layar dan menggunakan variabel."
   ]
  },
  {
   "cell_type": "code",
   "execution_count": null,
   "id": "1382c44f",
   "metadata": {},
   "outputs": [],
   "source": [
    "print(\"Halo Dunia!\")\n",
    "print(\"Selamat belajar Python\")"
   ]
  },
  {
   "cell_type": "markdown",
   "id": "7ae0a42b",
   "metadata": {},
   "source": [
    "## Variabel\n",
    "Variabel digunakan untuk menyimpan data."
   ]
  },
  {
   "cell_type": "code",
   "execution_count": null,
   "id": "2d6c3b95",
   "metadata": {},
   "outputs": [],
   "source": [
    "nama = \"Atma\"\n",
    "umur = 17\n",
    "print(\"Nama saya:\", nama)\n",
    "print(\"Umur saya:\", umur)"
   ]
  },
  {
   "cell_type": "markdown",
   "id": "263b3d05",
   "metadata": {},
   "source": [
    "## Input dari Pengguna\n",
    "Kita bisa meminta pengguna memasukkan data."
   ]
  },
  {
   "cell_type": "code",
   "execution_count": null,
   "id": "ba03060e",
   "metadata": {},
   "outputs": [],
   "source": [
    "nama_pengguna = input(\"Masukkan nama kamu: \")\n",
    "print(\"Halo,\", nama_pengguna)"
   ]
  }
 ],
 "metadata": {},
 "nbformat": 4,
 "nbformat_minor": 5
}
