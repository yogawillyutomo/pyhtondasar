{
 "cells": [
  {
   "cell_type": "markdown",
   "id": "acdbeaf1",
   "metadata": {},
   "source": [
    "# 🧮 Hari 3: Operator & Logika\n",
    "Belajar menggunakan operator aritmatika, perbandingan, dan logika di Python."
   ]
  },
  {
   "cell_type": "markdown",
   "id": "fce44744",
   "metadata": {},
   "source": [
    "## Operator Aritmatika"
   ]
  },
  {
   "cell_type": "code",
   "execution_count": null,
   "id": "c3cd3fd7",
   "metadata": {},
   "outputs": [],
   "source": [
    "a = 10\n",
    "b = 3\n",
    "\n",
    "print(\"Penjumlahan:\", a + b)\n",
    "print(\"Pengurangan:\", a - b)\n",
    "print(\"Perkalian:\", a * b)\n",
    "print(\"Pembagian:\", a / b)\n",
    "print(\"Modulus (sisa bagi):\", a % b)\n",
    "print(\"Pangkat:\", a ** b)\n",
    "print(\"Pembagian bulat:\", a // b)"
   ]
  },
  {
   "cell_type": "markdown",
   "id": "4253bbc9",
   "metadata": {},
   "source": [
    "## Operator Perbandingan"
   ]
  },
  {
   "cell_type": "code",
   "execution_count": null,
   "id": "04d7cd22",
   "metadata": {},
   "outputs": [],
   "source": [
    "print(\"Apakah a > b?\", a > b)\n",
    "print(\"Apakah a == 10?\", a == 10)\n",
    "print(\"Apakah a != b?\", a != b)"
   ]
  },
  {
   "cell_type": "markdown",
   "id": "1838f736",
   "metadata": {},
   "source": [
    "## Operator Logika"
   ]
  },
  {
   "cell_type": "code",
   "execution_count": null,
   "id": "e74d4708",
   "metadata": {},
   "outputs": [],
   "source": [
    "x = True\n",
    "y = False\n",
    "\n",
    "print(\"AND:\", x and y)\n",
    "print(\"OR:\", x or y)\n",
    "print(\"NOT x:\", not x)"
   ]
  },
  {
   "cell_type": "markdown",
   "id": "0d9650eb",
   "metadata": {},
   "source": [
    "## Studi Kasus: Cek Usia"
   ]
  },
  {
   "cell_type": "code",
   "execution_count": null,
   "id": "8c3b847d",
   "metadata": {},
   "outputs": [],
   "source": [
    "umur = int(input(\"Masukkan umur kamu: \"))\n",
    "if umur >= 17 and umur <= 60:\n",
    "    print(\"Kamu boleh membuat SIM.\")\n",
    "else:\n",
    "    print(\"Kamu belum/tidak boleh membuat SIM.\")"
   ]
  }
 ],
 "metadata": {},
 "nbformat": 4,
 "nbformat_minor": 5
}
