{
 "cells": [
  {
   "cell_type": "markdown",
   "id": "dfa14ffa",
   "metadata": {},
   "source": [
    "# 🔀 Hari 4: Percabangan `if`, `elif`, `else`\n",
    "Hari ini kita belajar bagaimana membuat keputusan di program Python."
   ]
  },
  {
   "cell_type": "markdown",
   "id": "47b66399",
   "metadata": {},
   "source": [
    "## Contoh: Penilaian Ujian"
   ]
  },
  {
   "cell_type": "code",
   "execution_count": null,
   "id": "d0d2e1cf",
   "metadata": {},
   "outputs": [],
   "source": [
    "nilai = int(input(\"Masukkan nilai ujian: \"))\n",
    "\n",
    "if nilai >= 90:\n",
    "    print(\"Nilai kamu A\")\n",
    "elif nilai >= 80:\n",
    "    print(\"Nilai kamu B\")\n",
    "elif nilai >= 70:\n",
    "    print(\"Nilai kamu C\")\n",
    "elif nilai >= 60:\n",
    "    print(\"Nilai kamu D\")\n",
    "else:\n",
    "    print(\"Nilai kamu E (remedial)\")"
   ]
  },
  {
   "cell_type": "markdown",
   "id": "973c11a0",
   "metadata": {},
   "source": [
    "## Studi Kasus: Login Sederhana"
   ]
  },
  {
   "cell_type": "code",
   "execution_count": null,
   "id": "2bc25e78",
   "metadata": {},
   "outputs": [],
   "source": [
    "username = input(\"Masukkan username: \")\n",
    "password = input(\"Masukkan password: \")\n",
    "\n",
    "if username == \"admin\" and password == \"1234\":\n",
    "    print(\"Login berhasil!\")\n",
    "else:\n",
    "    print(\"Username atau password salah.\")"
   ]
  }
 ],
 "metadata": {},
 "nbformat": 4,
 "nbformat_minor": 5
}
