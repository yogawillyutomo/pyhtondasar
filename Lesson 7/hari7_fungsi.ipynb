{
 "cells": [
  {
   "cell_type": "markdown",
   "id": "bd9c6bf4",
   "metadata": {},
   "source": [
    "# 🧩 Hari 7: Fungsi & Parameter\n",
    "Hari ini kita belajar membuat fungsi agar kode bisa digunakan ulang dengan mudah."
   ]
  },
  {
   "cell_type": "markdown",
   "id": "ed6d4c93",
   "metadata": {},
   "source": [
    "## Fungsi Sederhana"
   ]
  },
  {
   "cell_type": "code",
   "execution_count": null,
   "id": "402df1fe",
   "metadata": {},
   "outputs": [],
   "source": [
    "def sapa():\n",
    "    print(\"Halo, selamat datang!\")\n",
    "\n",
    "sapa()"
   ]
  },
  {
   "cell_type": "markdown",
   "id": "eb40c560",
   "metadata": {},
   "source": [
    "## Fungsi dengan Parameter"
   ]
  },
  {
   "cell_type": "code",
   "execution_count": null,
   "id": "9a4b68e2",
   "metadata": {},
   "outputs": [],
   "source": [
    "def sapa_nama(nama):\n",
    "    print(\"Halo,\", nama)\n",
    "\n",
    "sapa_nama(\"Atma\")\n",
    "sapa_nama(\"Budi\")"
   ]
  },
  {
   "cell_type": "markdown",
   "id": "b9717655",
   "metadata": {},
   "source": [
    "## Fungsi dengan Return Value"
   ]
  },
  {
   "cell_type": "code",
   "execution_count": null,
   "id": "8bb99b71",
   "metadata": {},
   "outputs": [],
   "source": [
    "def tambah(a, b):\n",
    "    return a + b\n",
    "\n",
    "hasil = tambah(3, 4)\n",
    "print(\"Hasil penjumlahan:\", hasil)"
   ]
  },
  {
   "cell_type": "markdown",
   "id": "a0db24c0",
   "metadata": {},
   "source": [
    "## Studi Kasus: Luas Segitiga"
   ]
  },
  {
   "cell_type": "code",
   "execution_count": null,
   "id": "48dac94e",
   "metadata": {},
   "outputs": [],
   "source": [
    "def luas_segitiga(alas, tinggi):\n",
    "    return 0.5 * alas * tinggi\n",
    "\n",
    "a = float(input(\"Masukkan alas: \"))\n",
    "t = float(input(\"Masukkan tinggi: \"))\n",
    "print(\"Luas segitiga:\", luas_segitiga(a, t))"
   ]
  }
 ],
 "metadata": {},
 "nbformat": 4,
 "nbformat_minor": 5
}
