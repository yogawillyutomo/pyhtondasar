{
 "cells": [
  {
   "cell_type": "markdown",
   "id": "0ebbea7a",
   "metadata": {},
   "source": [
    "# 📘 Hari 2: Variabel & Tipe Data\n",
    "Hari ini kita belajar mengenali berbagai tipe data di Python dan bagaimana mengkonversinya."
   ]
  },
  {
   "cell_type": "markdown",
   "id": "52fba749",
   "metadata": {},
   "source": [
    "## Contoh Tipe Data Dasar"
   ]
  },
  {
   "cell_type": "code",
   "execution_count": null,
   "id": "90d1df8c",
   "metadata": {},
   "outputs": [],
   "source": [
    "nama = \"Atma\"           # str\n",
    "umur = 17               # int\n",
    "tinggi = 165.5          # float\n",
    "is_student = True       # bool\n",
    "\n",
    "print(type(nama))\n",
    "print(type(umur))\n",
    "print(type(tinggi))\n",
    "print(type(is_student))"
   ]
  },
  {
   "cell_type": "markdown",
   "id": "b5fef4bc",
   "metadata": {},
   "source": [
    "## Konversi Tipe Data"
   ]
  },
  {
   "cell_type": "code",
   "execution_count": null,
   "id": "a6f150f2",
   "metadata": {},
   "outputs": [],
   "source": [
    "angka = \"42\"\n",
    "angka_int = int(angka)\n",
    "print(\"Angka setelah konversi:\", angka_int)"
   ]
  },
  {
   "cell_type": "markdown",
   "id": "a3231a5c",
   "metadata": {},
   "source": [
    "## Input dari Pengguna + Operasi"
   ]
  },
  {
   "cell_type": "code",
   "execution_count": null,
   "id": "1dc6365e",
   "metadata": {},
   "outputs": [],
   "source": [
    "umur_input = int(input(\"Masukkan umur kamu: \"))\n",
    "print(\"Umur kamu 5 tahun lagi adalah:\", umur_input + 5)"
   ]
  }
 ],
 "metadata": {},
 "nbformat": 4,
 "nbformat_minor": 5
}
