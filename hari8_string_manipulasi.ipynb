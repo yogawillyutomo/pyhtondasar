{
 "cells": [
  {
   "cell_type": "markdown",
   "id": "c59e968b",
   "metadata": {},
   "source": [
    "# 📝 Hari 8: Manipulasi String\n",
    "Hari ini kita belajar cara mengolah teks dalam Python."
   ]
  },
  {
   "cell_type": "markdown",
   "id": "9ec80248",
   "metadata": {},
   "source": [
    "## Fungsi-fungsi String Dasar"
   ]
  },
  {
   "cell_type": "code",
   "execution_count": null,
   "id": "f7b1053d",
   "metadata": {},
   "outputs": [],
   "source": [
    "teks = \"Halo, Dunia!\"\n",
    "print(teks.lower())\n",
    "print(teks.upper())\n",
    "print(teks.replace(\"Dunia\", \"Python\"))\n",
    "print(teks.split(\",\"))\n",
    "print(teks.strip(\"!\"))"
   ]
  },
  {
   "cell_type": "markdown",
   "id": "c331c829",
   "metadata": {},
   "source": [
    "## F-string & Gabungan Kalimat"
   ]
  },
  {
   "cell_type": "code",
   "execution_count": null,
   "id": "040279b5",
   "metadata": {},
   "outputs": [],
   "source": [
    "nama = \"Atma\"\n",
    "umur = 17\n",
    "kalimat = f\"Nama saya {nama}, umur saya {umur} tahun\"\n",
    "print(kalimat)"
   ]
  },
  {
   "cell_type": "markdown",
   "id": "34a2fd9f",
   "metadata": {},
   "source": [
    "## Pengecekan Kata"
   ]
  },
  {
   "cell_type": "code",
   "execution_count": null,
   "id": "8ba21b0f",
   "metadata": {},
   "outputs": [],
   "source": [
    "print(\"Halo\" in teks)\n",
    "print(\"Python\" not in teks)"
   ]
  }
 ],
 "metadata": {},
 "nbformat": 4,
 "nbformat_minor": 5
}
