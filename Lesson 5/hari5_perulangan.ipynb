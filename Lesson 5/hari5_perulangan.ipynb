{
 "cells": [
  {
   "cell_type": "markdown",
   "id": "0dbe75b6",
   "metadata": {},
   "source": [
    "# 🔁 Hari 5: Perulangan (`for` & `while`)\n",
    "Hari ini kita belajar bagaimana mengulang perintah dalam Python."
   ]
  },
  {
   "cell_type": "markdown",
   "id": "a814d153",
   "metadata": {},
   "source": [
    "## Perulangan dengan `for`"
   ]
  },
  {
   "cell_type": "code",
   "execution_count": null,
   "id": "c29f39da",
   "metadata": {},
   "outputs": [],
   "source": [
    "print(\"Cetak angka 1 sampai 5:\")\n",
    "for i in range(1, 6):\n",
    "    print(i)"
   ]
  },
  {
   "cell_type": "markdown",
   "id": "8a99508e",
   "metadata": {},
   "source": [
    "## Perulangan dengan `while`"
   ]
  },
  {
   "cell_type": "code",
   "execution_count": null,
   "id": "9b778f81",
   "metadata": {},
   "outputs": [],
   "source": [
    "x = 1\n",
    "while x <= 5:\n",
    "    print(x)\n",
    "    x += 1"
   ]
  },
  {
   "cell_type": "markdown",
   "id": "30bdaaad",
   "metadata": {},
   "source": [
    "## Menggunakan `break` dan `continue`"
   ]
  },
  {
   "cell_type": "code",
   "execution_count": null,
   "id": "12f479d3",
   "metadata": {},
   "outputs": [],
   "source": [
    "print(\"Perulangan dengan break:\")\n",
    "for i in range(1, 10):\n",
    "    if i == 5:\n",
    "        break\n",
    "    print(i)\n",
    "\n",
    "print(\"Perulangan dengan continue:\")\n",
    "for i in range(1, 6):\n",
    "    if i == 3:\n",
    "        continue\n",
    "    print(i)"
   ]
  },
  {
   "cell_type": "markdown",
   "id": "99e5aaad",
   "metadata": {},
   "source": [
    "## Studi Kasus: Segitiga Bintang"
   ]
  },
  {
   "cell_type": "code",
   "execution_count": null,
   "id": "914355a1",
   "metadata": {},
   "outputs": [],
   "source": [
    "baris = int(input(\"Masukkan jumlah baris: \"))\n",
    "for i in range(1, baris + 1):\n",
    "    print(\"*\" * i)"
   ]
  }
 ],
 "metadata": {},
 "nbformat": 4,
 "nbformat_minor": 5
}
