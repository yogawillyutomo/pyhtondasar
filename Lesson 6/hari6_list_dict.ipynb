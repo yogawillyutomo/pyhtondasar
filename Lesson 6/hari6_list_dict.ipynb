{
 "cells": [
  {
   "cell_type": "markdown",
   "id": "ad8e4e35",
   "metadata": {},
   "source": [
    "# 📚 Hari 6: Struktur Data – List & Dictionary\n",
    "Hari ini kita belajar menyimpan banyak data dalam satu variabel menggunakan list dan dictionary."
   ]
  },
  {
   "cell_type": "markdown",
   "id": "ab96831a",
   "metadata": {},
   "source": [
    "## List"
   ]
  },
  {
   "cell_type": "code",
   "execution_count": null,
   "id": "73f08cdb",
   "metadata": {},
   "outputs": [],
   "source": [
    "buah = [\"apel\", \"jeruk\", \"pisang\"]\n",
    "print(\"List buah:\", buah)\n",
    "print(\"Buah pertama:\", buah[0])\n",
    "\n",
    "buah.append(\"mangga\")\n",
    "buah.remove(\"jeruk\")\n",
    "print(\"List setelah diubah:\", buah)\n",
    "\n",
    "for item in buah:\n",
    "    print(\"Saya suka\", item)"
   ]
  },
  {
   "cell_type": "markdown",
   "id": "f30f7b29",
   "metadata": {},
   "source": [
    "## Dictionary"
   ]
  },
  {
   "cell_type": "code",
   "execution_count": null,
   "id": "f67ad45b",
   "metadata": {},
   "outputs": [],
   "source": [
    "siswa = {\n",
    "    \"nama\": \"Atma\",\n",
    "    \"umur\": 17,\n",
    "    \"kelas\": \"XII RPL\"\n",
    "}\n",
    "print(\"Data siswa:\", siswa)\n",
    "print(\"Nama:\", siswa[\"nama\"])\n",
    "\n",
    "siswa[\"umur\"] = 18\n",
    "siswa[\"jurusan\"] = \"Rekayasa Perangkat Lunak\"\n",
    "\n",
    "for key, value in siswa.items():\n",
    "    print(key + \":\", value)"
   ]
  }
 ],
 "metadata": {},
 "nbformat": 4,
 "nbformat_minor": 5
}
